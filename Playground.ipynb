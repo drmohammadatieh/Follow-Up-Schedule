{
 "cells": [
  {
   "cell_type": "code",
   "execution_count": 12,
   "metadata": {},
   "outputs": [
    {
     "name": "stdout",
     "output_type": "stream",
     "text": [
      "Hello\n"
     ]
    }
   ],
   "source": [
    "print(\"Hello\")"
   ]
  },
  {
   "cell_type": "code",
   "execution_count": 13,
   "metadata": {},
   "outputs": [
    {
     "data": {
      "text/plain": [
       "12"
      ]
     },
     "execution_count": 13,
     "metadata": {},
     "output_type": "execute_result"
    }
   ],
   "source": [
    "t ='CGATATATCCATAG'\n",
    "counter = 0\n",
    "for i in range(len(t)):\n",
    "    if t.find('TA',i)!= -1:\n",
    "        counter +=1\n",
    "counter\n"
   ]
  },
  {
   "cell_type": "code",
   "execution_count": 11,
   "metadata": {},
   "outputs": [
    {
     "name": "stdout",
     "output_type": "stream",
     "text": [
      "0\n",
      "AAAG\n",
      "1\n",
      "AAGA\n",
      "2\n",
      "AGAG\n",
      "3\n",
      "GAGT\n",
      "4\n",
      "AGTG\n",
      "5\n",
      "GTGT\n",
      "6\n",
      "TGTC\n",
      "7\n",
      "GTCT\n",
      "8\n",
      "TCTG\n",
      "9\n",
      "CTGA\n",
      "10\n",
      "TGAT\n",
      "11\n",
      "GATA\n",
      "12\n",
      "ATAG\n",
      "13\n",
      "TAGC\n",
      "14\n",
      "AGCA\n",
      "15\n",
      "GCAG\n",
      "16\n",
      "CAGC\n",
      "17\n",
      "AGCT\n",
      "18\n",
      "GCTT\n",
      "19\n",
      "CTTC\n",
      "20\n",
      "TTCT\n",
      "21\n",
      "TCTG\n",
      "22\n",
      "CTGA\n",
      "23\n",
      "TGAA\n",
      "24\n",
      "GAAC\n",
      "25\n",
      "AACT\n",
      "26\n",
      "ACTG\n",
      "27\n",
      "CTGG\n",
      "28\n",
      "TGGT\n",
      "29\n",
      "GGTT\n",
      "30\n",
      "GTTA\n",
      "31\n",
      "TTAC\n",
      "32\n",
      "TACC\n",
      "33\n",
      "ACCT\n",
      "34\n",
      "CCTG\n",
      "35\n",
      "CTGC\n",
      "36\n",
      "TGCC\n",
      "37\n",
      "GCCG\n",
      "38\n",
      "CCGT\n",
      "39\n",
      "CGTG\n",
      "40\n",
      "GTGA\n",
      "41\n",
      "TGAG\n",
      "42\n",
      "GAGT\n",
      "43\n",
      "AGTA\n",
      "44\n",
      "GTAA\n",
      "45\n",
      "TAAA\n",
      "46\n",
      "AAAT\n",
      "47\n",
      "AATT\n",
      "48\n",
      "ATTA\n",
      "49\n",
      "TTAA\n",
      "50\n",
      "TAAA\n",
      "51\n",
      "AAAT\n",
      "52\n",
      "AATT\n",
      "53\n",
      "ATTT\n",
      "54\n",
      "TTTT\n",
      "55\n",
      "TTTA\n",
      "56\n",
      "TTAT\n",
      "57\n",
      "TATT\n",
      "58\n",
      "ATTG\n",
      "59\n",
      "TTGA\n",
      "60\n",
      "TGAC\n",
      "61\n",
      "GACT\n",
      "62\n",
      "ACTT\n",
      "63\n",
      "CTTA\n",
      "64\n",
      "TTAG\n",
      "65\n",
      "TAGG\n",
      "66\n",
      "AGGT\n",
      "67\n",
      "GGTC\n",
      "68\n",
      "GTCA\n",
      "69\n",
      "TCAC\n",
      "70\n",
      "CACT\n",
      "71\n",
      "ACTA\n",
      "72\n",
      "CTAA\n",
      "73\n",
      "TAAA\n",
      "74\n",
      "AAAT\n",
      "75\n",
      "AATA\n",
      "76\n",
      "ATAC\n",
      "77\n",
      "TACT\n",
      "78\n",
      "ACTT\n",
      "79\n",
      "CTTT\n",
      "80\n",
      "TTTA\n",
      "81\n",
      "TTAA\n",
      "82\n",
      "TAAC\n",
      "83\n",
      "AACC\n",
      "84\n",
      "ACCA\n",
      "85\n",
      "CCAA\n",
      "86\n",
      "CAAT\n",
      "87\n",
      "AATA\n",
      "88\n",
      "ATAT\n",
      "89\n",
      "TATA\n",
      "90\n",
      "ATAG\n",
      "91\n",
      "TAGG\n",
      "92\n",
      "AGGC\n",
      "93\n",
      "GGCA\n",
      "94\n",
      "GCAT\n",
      "95\n",
      "CATA\n",
      "96\n",
      "ATAG\n",
      "97\n",
      "TAGC\n",
      "98\n",
      "AGCG\n",
      "99\n",
      "GCGC\n",
      "100\n",
      "CGCA\n",
      "101\n",
      "GCAC\n",
      "102\n",
      "CACA\n",
      "103\n",
      "ACAG\n",
      "104\n",
      "CAGA\n",
      "105\n",
      "AGAC\n",
      "106\n",
      "GACA\n",
      "107\n",
      "ACAG\n",
      "108\n",
      "CAGA\n",
      "109\n",
      "AGAT\n",
      "110\n",
      "GATA\n",
      "111\n",
      "ATAA\n",
      "112\n",
      "TAAT\n",
      "113\n",
      "AATA\n",
      "114\n",
      "ATAA\n",
      "115\n",
      "TAAT\n",
      "116\n",
      "AATT\n",
      "117\n",
      "ATTA\n",
      "118\n",
      "TTAC\n",
      "119\n",
      "TACA\n",
      "120\n",
      "ACAG\n",
      "121\n",
      "CAGA\n",
      "122\n",
      "AGAG\n",
      "123\n",
      "GAGT\n",
      "124\n",
      "AGTA\n",
      "125\n",
      "GTAC\n",
      "126\n",
      "TACA\n",
      "127\n",
      "ACAC\n",
      "128\n",
      "CACA\n",
      "129\n",
      "ACAA\n",
      "130\n",
      "CAAC\n",
      "131\n",
      "AACA\n",
      "132\n",
      "ACAT\n",
      "133\n",
      "CATC\n",
      "134\n",
      "ATCC\n",
      "135\n",
      "TCCA\n",
      "136\n",
      "CCAT\n",
      "137\n",
      "CAT\n"
     ]
    },
    {
     "data": {
      "text/plain": [
       "[]"
      ]
     },
     "execution_count": 11,
     "metadata": {},
     "output_type": "execute_result"
    }
   ],
   "source": [
    "# fill in your PatternMatching() function along with any subroutines that you need.\n",
    "def PatternMatching(Pattern, Genome):\n",
    "    positions = [] # output variable\n",
    "    for n in range(len(Genome)-len(Pattern)+1):\n",
    "        print(n)\n",
    "        print(Genome[n:n+4])\n",
    "        if Genome[n:n+4] == Pattern:\n",
    "            positions.append(n)\n",
    "    return positions\n",
    "#correct output : 0 46 51 74\n",
    "PatternMatching('AAA','AAAGAGTGTCTGATAGCAGCTTCTGAACTGGTTACCTGCCGTGAGTAAATTAAATTTTATTGACTTAGGTCACTAAATACTTTAACCAATATAGGCATAGCGCACAGACAGATAATAATTACAGAGTACACAACATCCAT')"
   ]
  },
  {
   "cell_type": "code",
   "execution_count": 3,
   "metadata": {},
   "outputs": [
    {
     "name": "stdout",
     "output_type": "stream",
     "text": [
      "1\n"
     ]
    }
   ],
   "source": [
    "for i in range(1,2):\n",
    "    print (i)"
   ]
  },
  {
   "cell_type": "code",
   "execution_count": 4,
   "metadata": {},
   "outputs": [
    {
     "name": "stdout",
     "output_type": "stream",
     "text": [
      "{'A': 1}\n"
     ]
    }
   ],
   "source": [
    "dic = {}\n",
    "\n",
    "dic['A']= 1\n",
    "\n",
    "print(dic)"
   ]
  },
  {
   "cell_type": "code",
   "execution_count": null,
   "metadata": {},
   "outputs": [
    {
     "data": {
      "text/plain": [
       "'AAC'"
      ]
     },
     "execution_count": 5,
     "metadata": {},
     "output_type": "execute_result"
    }
   ],
   "source": [
    "t ='AACT'\n",
    "t[0:0+3]"
   ]
  },
  {
   "cell_type": "code",
   "execution_count": null,
   "metadata": {},
   "outputs": [
    {
     "name": "stdout",
     "output_type": "stream",
     "text": [
      "<generator object <genexpr> at 0x7f8cf04df740>\n"
     ]
    }
   ],
   "source": [
    "print (i for i in range (1,5))"
   ]
  },
  {
   "cell_type": "code",
   "execution_count": null,
   "metadata": {},
   "outputs": [],
   "source": [
    "import turtle\n",
    "\n",
    "t = turtle.Turtle()\n",
    "\n",
    "t.forward(100)\n",
    "\n"
   ]
  },
  {
   "cell_type": "code",
   "execution_count": null,
   "metadata": {},
   "outputs": [
    {
     "name": "stdout",
     "output_type": "stream",
     "text": [
      "[[3, 1, 5, 5], [1, 2, 4, 1], [5, 3, 7, 3]]\n"
     ]
    }
   ],
   "source": [
    "import operator\n",
    "my_list = [\n",
    "    [1,2,4,1],\n",
    "    [3,1,5,5],\n",
    "    [5,3,7,3],\n",
    "    ]\n",
    "\n",
    "\n",
    "my_list.sort(key= lambda x: x[1])\n",
    "print(my_list)"
   ]
  },
  {
   "cell_type": "code",
   "execution_count": null,
   "metadata": {},
   "outputs": [
    {
     "name": "stdout",
     "output_type": "stream",
     "text": [
      "!\n"
     ]
    }
   ],
   "source": [
    "print(min('av67!#)'))"
   ]
  },
  {
   "cell_type": "code",
   "execution_count": null,
   "metadata": {},
   "outputs": [
    {
     "ename": "AttributeError",
     "evalue": "'list' object has no attribute 'lower'",
     "output_type": "error",
     "traceback": [
      "\u001b[0;31m---------------------------------------------------------------------------\u001b[0m",
      "\u001b[0;31mAttributeError\u001b[0m                            Traceback (most recent call last)",
      "\u001b[0;32m/var/folders/v0/wfkzz_t5151_0lcycqm6ht380000gn/T/ipykernel_64986/1130253985.py\u001b[0m in \u001b[0;36m<module>\u001b[0;34m\u001b[0m\n\u001b[0;32m----> 1\u001b[0;31m \u001b[0mprint\u001b[0m\u001b[0;34m(\u001b[0m\u001b[0;34m[\u001b[0m\u001b[0;34m\"Dog\"\u001b[0m\u001b[0;34m,\u001b[0m \u001b[0;34m\"Fish\"\u001b[0m\u001b[0;34m,\u001b[0m \u001b[0;34m\"cat\"\u001b[0m\u001b[0;34m]\u001b[0m\u001b[0;34m.\u001b[0m\u001b[0mlower\u001b[0m\u001b[0;34m(\u001b[0m\u001b[0;34m)\u001b[0m\u001b[0;34m)\u001b[0m\u001b[0;34m\u001b[0m\u001b[0;34m\u001b[0m\u001b[0m\n\u001b[0m",
      "\u001b[0;31mAttributeError\u001b[0m: 'list' object has no attribute 'lower'"
     ]
    }
   ],
   "source": [
    "print([\"Dog\", \"Fish\", \"cat\"].lower())"
   ]
  },
  {
   "cell_type": "code",
   "execution_count": null,
   "metadata": {},
   "outputs": [],
   "source": []
  },
  {
   "cell_type": "code",
   "execution_count": 1,
   "metadata": {},
   "outputs": [
    {
     "name": "stdout",
     "output_type": "stream",
     "text": [
      "22-12-2021\n"
     ]
    }
   ],
   "source": [
    "import datetime\n",
    "input_item = input('') or datetime.datetime.today().strftime('%d-%m-%Y')\n",
    "print(input_item)"
   ]
  },
  {
   "cell_type": "code",
   "execution_count": 6,
   "metadata": {},
   "outputs": [
    {
     "name": "stdout",
     "output_type": "stream",
     "text": [
      "True\n"
     ]
    }
   ],
   "source": [
    "print(True if  all(x.isdigit() for x in '2-1-2020'.split('-')) else False)\n"
   ]
  },
  {
   "cell_type": "code",
   "execution_count": 13,
   "metadata": {},
   "outputs": [
    {
     "name": "stdout",
     "output_type": "stream",
     "text": [
      "2021-12-22\n"
     ]
    }
   ],
   "source": [
    "import datetime\n",
    "today = datetime.datetime.today()\n",
    "input_item = input('date in dd-mm-yyyy format') or today.date()\n",
    "\n",
    "print(input_item)"
   ]
  },
  {
   "cell_type": "code",
   "execution_count": 3,
   "metadata": {},
   "outputs": [
    {
     "name": "stdout",
     "output_type": "stream",
     "text": [
      "2222-10-10 00:00:00\n",
      "2\n"
     ]
    }
   ],
   "source": [
    "import datetime\n",
    "print(datetime.datetime.strptime('10-10-2222','%d-%m-%Y'))\n",
    "print('1-2-222'.count('-'))"
   ]
  },
  {
   "cell_type": "code",
   "execution_count": 3,
   "metadata": {},
   "outputs": [
    {
     "name": "stdout",
     "output_type": "stream",
     "text": [
      "True\n"
     ]
    }
   ],
   "source": [
    "print('1'.isdigit())"
   ]
  },
  {
   "cell_type": "code",
   "execution_count": 1,
   "metadata": {},
   "outputs": [
    {
     "name": "stdout",
     "output_type": "stream",
     "text": [
      "{'2'}\n"
     ]
    }
   ],
   "source": [
    "print(set(['1','2'])- set(['1']))\n"
   ]
  },
  {
   "cell_type": "code",
   "execution_count": 4,
   "metadata": {},
   "outputs": [
    {
     "name": "stdout",
     "output_type": "stream",
     "text": [
      "[1, 3, 5, 2]\n"
     ]
    }
   ],
   "source": [
    "a = [1,3,5,2,]\n",
    "\n",
    "\n",
    "print(a)"
   ]
  },
  {
   "cell_type": "code",
   "execution_count": 5,
   "metadata": {},
   "outputs": [
    {
     "name": "stdout",
     "output_type": "stream",
     "text": [
      "True\n"
     ]
    }
   ],
   "source": [
    "a = [1,2]\n",
    "b = [1,2,3,4]\n",
    "\n",
    "print(set(a).issubset(b))"
   ]
  },
  {
   "cell_type": "code",
   "execution_count": 13,
   "metadata": {},
   "outputs": [
    {
     "name": "stdout",
     "output_type": "stream",
     "text": [
      "6 d d\n"
     ]
    }
   ],
   "source": [
    "print('6 d d'.replace('a' or 'd',''))"
   ]
  }
 ],
 "metadata": {
  "interpreter": {
   "hash": "0d417da4fe6100f09a729a3f0350619e45ace35039dd0bf64a58d80b7f6fe6b0"
  },
  "kernelspec": {
   "display_name": "Python 3.8.8 64-bit ('base': conda)",
   "name": "python3"
  },
  "language_info": {
   "codemirror_mode": {
    "name": "ipython",
    "version": 3
   },
   "file_extension": ".py",
   "mimetype": "text/x-python",
   "name": "python",
   "nbconvert_exporter": "python",
   "pygments_lexer": "ipython3",
   "version": "3.9.5"
  },
  "orig_nbformat": 4
 },
 "nbformat": 4,
 "nbformat_minor": 2
}
